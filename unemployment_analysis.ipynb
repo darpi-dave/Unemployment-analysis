{
 "cells": [
  {
   "cell_type": "markdown",
   "metadata": {},
   "source": [
    "\n",
    "# Unemployment Analysis in India\n",
    "\n",
    "This notebook analyzes the unemployment rates across various states in India using data science techniques. The analysis includes data cleaning, visualization, and statistical analysis to understand the trends and patterns in unemployment data.\n"
   ]
  },
  {
   "cell_type": "markdown",
   "metadata": {},
   "source": [
    "### Importing Libraries\n",
    "\n",
    "In this section, we import the necessary libraries for data manipulation, visualization, and analysis. These include:\n",
    "- `numpy` and `pandas` for data handling\n",
    "- `seaborn` and `matplotlib` for data visualization\n",
    "- `calendar` for handling date-related data\n",
    "- `plotly.express` for interactive visualizations\n"
   ]
  },
  {
   "cell_type": "code",
   "execution_count": null,
   "metadata": {},
   "outputs": [],
   "source": [
    "# Importing necessary libraries\n",
    "import numpy as np\n",
    "import pandas as pd\n",
    "import seaborn as sns\n",
    "import matplotlib.pyplot as plt\n",
    "import calendar\n",
    "import plotly.express as px\n",
    "\n"
   ]
  },
  {
   "cell_type": "markdown",
   "metadata": {},
   "source": [
    "### Loading the Dataset\n",
    "\n",
    "We load the dataset containing unemployment data. The data is stored in a CSV file named `data.csv`.\n"
   ]
  },
  {
   "cell_type": "code",
   "execution_count": null,
   "metadata": {},
   "outputs": [],
   "source": [
    "# Load the dataset\n",
    "data = 'data.csv'\n",
    "dt = pd.read_csv(data)\n",
    "\n"
   ]
  },
  {
   "cell_type": "markdown",
   "metadata": {},
   "source": [
    "### Data Cleaning\n",
    "\n",
    "This section includes steps to clean the data:\n",
    "- Removing leading and trailing spaces from column names\n",
    "- Dropping any duplicate columns\n",
    "- Dropping rows with null values to ensure the dataset is clean and ready for analysis\n",
    "\n"
   ]
  },
  {
   "cell_type": "code",
   "execution_count": null,
   "metadata": {},
   "outputs": [],
   "source": [
    "# Strip leading and trailing spaces from column names\n",
    "dt.columns = dt.columns.str.strip()\n",
    "\n",
    "# Drop any duplicate columns\n",
    "dt = dt.loc[:, ~dt.columns.duplicated()]\n",
    "\n",
    "# Print the updated columns to verify\n",
    "print(dt.columns)\n",
    "\n",
    "# Check for and drop null values\n",
    "dt.dropna(inplace=True)\n",
    "\n"
   ]
  },
  {
   "cell_type": "markdown",
   "metadata": {},
   "source": [
    "### Date Conversion and Feature Engineering\n",
    "\n",
    "In this section, we:\n",
    "- Convert the 'Date' column to a datetime format\n",
    "- Create a new column for the month extracted from the 'Date' column\n",
    "- Rename columns for consistency and readability\n",
    "\n"
   ]
  },
  {
   "cell_type": "code",
   "execution_count": null,
   "metadata": {},
   "outputs": [],
   "source": [
    "# Convert 'Date' column to datetime\n",
    "dt['Date'] = pd.to_datetime(dt['Date'], dayfirst=True)\n",
    "\n",
    "# Create a new column for the month\n",
    "dt['Month'] = dt['Date'].dt.month\n",
    "\n",
    "# Renaming columns for consistency\n",
    "dt.rename(columns={\n",
    "    'State': 'State',\n",
    "    'Date': 'Date',\n",
    "    'Frequency': 'Frequency',\n",
    "    'Unemployment Rate': 'Unemployment_Rate',\n",
    "    'Estimated Employed': 'Employed',\n",
    "    'Estimated Labour Participation Rate (%)': 'Labor_Participation_Rate',\n",
    "    'longitude': 'Longitude',\n",
    "    'latitude': 'Latitude'\n",
    "}, inplace=True)\n",
    "\n"
   ]
  },
  {
   "cell_type": "markdown",
   "metadata": {},
   "source": [
    "### Verify the Data after Cleaning\n",
    "\n",
    "We verify the cleaned dataset to ensure all transformations were applied correctly and the data is in the desired format.\n"
   ]
  },
  {
   "cell_type": "code",
   "execution_count": null,
   "metadata": {},
   "outputs": [],
   "source": [
    "# Verify the data after cleaning\n",
    "print(dt.info())\n"
   ]
  },
  {
   "cell_type": "markdown",
   "metadata": {},
   "source": [
    "### Data Visualization\n",
    "\n",
    "This section includes various visualizations to explore the data:\n",
    "\n",
    "1. **Histogram of the Unemployment Rate**: Displays the distribution of the unemployment rate across the dataset.\n",
    "2. **Line Plot of Unemployment Rate over Time**: Shows the trend of unemployment rates over time.\n",
    "3. **Box Plot of Unemployment Rate by State**: Compares the unemployment rates across different states.\n",
    "4. **Scatter Plot of Employed vs. Labor Participation Rate**: Examines the relationship between the number of employed individuals and the labor participation rate.\n"
   ]
  },
  {
   "cell_type": "markdown",
   "metadata": {},
   "source": [
    "1. **Histogram of the Unemployment Rate**"
   ]
  },
  {
   "cell_type": "code",
   "execution_count": null,
   "metadata": {},
   "outputs": [],
   "source": [
    "# Histogram of the Unemployment Rate\n",
    "plt.figure(figsize=(8, 6))\n",
    "sns.histplot(dt['Unemployment_Rate'], bins=20, kde=True)\n",
    "plt.title('Histogram of Unemployment Rate')\n",
    "plt.xlabel('Unemployment Rate')\n",
    "plt.ylabel('Frequency')\n",
    "plt.show()"
   ]
  },
  {
   "cell_type": "markdown",
   "metadata": {},
   "source": [
    "2. **Line Plot of Unemployment Rate over Time**"
   ]
  },
  {
   "cell_type": "code",
   "execution_count": null,
   "metadata": {},
   "outputs": [],
   "source": [
    "# Line plot of Unemployment Rate over time (Date)\n",
    "plt.figure(figsize=(10, 6))\n",
    "sns.lineplot(x='Date', y='Unemployment_Rate', data=dt)\n",
    "plt.title('Unemployment Rate over Time')\n",
    "plt.xlabel('Date')\n",
    "plt.ylabel('Unemployment Rate')\n",
    "plt.xticks(rotation=45)\n",
    "plt.show()"
   ]
  },
  {
   "cell_type": "markdown",
   "metadata": {},
   "source": [
    "3. **Box Plot of Unemployment Rate by State**"
   ]
  },
  {
   "cell_type": "code",
   "execution_count": null,
   "metadata": {},
   "outputs": [],
   "source": [
    "# Box plot of Unemployment Rate by State\n",
    "plt.figure(figsize=(10, 6))\n",
    "sns.boxplot(x='State', y='Unemployment_Rate', data=dt)\n",
    "plt.title('Unemployment Rate by State')\n",
    "plt.xlabel('State')\n",
    "plt.ylabel('Unemployment Rate')\n",
    "plt.xticks(rotation=90)\n",
    "plt.show()\n"
   ]
  },
  {
   "cell_type": "markdown",
   "metadata": {},
   "source": [
    "4. **Scatter Plot of Employed vs. Labor Participation Rate**"
   ]
  },
  {
   "cell_type": "code",
   "execution_count": null,
   "metadata": {},
   "outputs": [],
   "source": [
    "# Scatter plot of Employed vs. Labor Participation Rate\n",
    "plt.figure(figsize=(8, 6))\n",
    "sns.scatterplot(x='Employed', y='Labor_Participation_Rate', data=dt)\n",
    "plt.title('Employed vs. Labor Participation Rate')\n",
    "plt.xlabel('Employed')\n",
    "plt.ylabel('Labor Participation Rate')\n",
    "plt.show()\n"
   ]
  },
  {
   "cell_type": "markdown",
   "metadata": {},
   "source": [
    "### Monthly Average Unemployment Rate\n",
    "\n",
    "We calculate and visualize the monthly average unemployment rate to understand seasonal trends and patterns.\n",
    "\n"
   ]
  },
  {
   "cell_type": "code",
   "execution_count": null,
   "metadata": {},
   "outputs": [],
   "source": [
    "# Monthly average of Unemployment Rate\n",
    "monthly_avg_unemployment = dt.groupby('Month')['Unemployment_Rate'].mean()\n",
    "plt.figure(figsize=(8, 6))\n",
    "sns.barplot(x=monthly_avg_unemployment.index, y=monthly_avg_unemployment.values)\n",
    "plt.title('Monthly Average Unemployment Rate')\n",
    "plt.xlabel('Month')\n",
    "plt.ylabel('Average Unemployment Rate')\n",
    "plt.xticks(np.arange(1, 13), calendar.month_abbr[1:13], rotation=45)\n",
    "plt.show()\n"
   ]
  },
  {
   "cell_type": "markdown",
   "metadata": {},
   "source": [
    "### Correlation Analysis\n",
    "\n",
    "This section includes:\n",
    "- A **Correlation Heatmap** to visualize the correlations between numerical variables.\n",
    "- A **Pairplot** to show pairwise relationships between numerical variables.\n",
    "\n"
   ]
  },
  {
   "cell_type": "markdown",
   "metadata": {},
   "source": [
    "#### Correlation Heatmap"
   ]
  },
  {
   "cell_type": "code",
   "execution_count": null,
   "metadata": {},
   "outputs": [],
   "source": [
    "# Exclude non-numeric columns from correlation calculation\n",
    "numeric_columns = dt.select_dtypes(include=[np.number])\n",
    "correlation_matrix = numeric_columns.corr()\n",
    "\n",
    "# Correlation heatmap\n",
    "plt.figure(figsize=(10, 8))\n",
    "sns.heatmap(correlation_matrix, annot=True, cmap='coolwarm', fmt='.2f')\n",
    "plt.title('Correlation Matrix Heatmap')\n",
    "plt.show()\n",
    "\n",
    "\n"
   ]
  },
  {
   "cell_type": "markdown",
   "metadata": {},
   "source": [
    "#### Pairplot of Numerical Columns"
   ]
  },
  {
   "cell_type": "code",
   "execution_count": null,
   "metadata": {},
   "outputs": [],
   "source": [
    "# Pairplot of numerical columns\n",
    "numerical_columns = ['Unemployment_Rate', 'Employed', 'Labor_Participation_Rate', 'Longitude', 'Latitude']\n",
    "sns.pairplot(dt[numerical_columns])\n",
    "plt.title('Pairplot of Numerical Variables')\n",
    "plt.show()"
   ]
  },
  {
   "cell_type": "markdown",
   "metadata": {},
   "source": [
    "### Animated Bar Chart for Monthly Unemployment Rates by State\n",
    "\n",
    "This script creates an animated bar chart to visualize the monthly unemployment rates by state using Plotly and pandas.\n",
    "\n",
    "#### Steps\n",
    "\n",
    "1. **Load the Dataset**\n",
    "2. **Clean and Prepare the Data**\n",
    "3. **Group Data by State and Month**\n",
    "4. **Create the Animated Bar Chart**\n",
    "5. **Customize the Animation Settings**\n",
    "6. **Display the Plot**"
   ]
  },
  {
   "cell_type": "code",
   "execution_count": null,
   "metadata": {},
   "outputs": [],
   "source": [
    "# Group by state and month, then average the unemployment rate\n",
    "grouped_df = dt.groupby(['State', 'Month'])['Unemployment_Rate'].mean().reset_index()\n",
    "\n",
    "    # Create the animated bar chart\n",
    "fig = px.bar(grouped_df, \n",
    "                x='State', \n",
    "                y='Unemployment_Rate', \n",
    "                color='State', \n",
    "                animation_frame='Month',\n",
    "                title='Monthly Unemployment Rates by State',\n",
    "                labels={'Unemployment_Rate': 'Unemployment Rate (%)'},\n",
    "                range_y=[0, grouped_df['Unemployment_Rate'].max() + 2])\n",
    "\n",
    "    # Update layout for better visualization\n",
    "    # fig.update_layout(\n",
    "    #     xaxis={'categoryorder':'total descending'},\n",
    "    #     transition={'duration': 100},\n",
    "    #     yaxis_title='Unemployment Rate (%)',\n",
    "    #     xaxis_title='State'\n",
    "    # )\n",
    "fig.update_layout(\n",
    "        sliders=[{\n",
    "            'currentvalue': {\n",
    "                'prefix': 'Month: ',\n",
    "                'font': {'size': 20}\n",
    "            },\n",
    "            'pad': {'b': 10},\n",
    "            'len': 0.9,\n",
    "            'x': 0.1,\n",
    "            'xanchor': 'center',\n",
    "            'y': -0.3,\n",
    "            'yanchor': 'top'\n",
    "        }],\n",
    "        transition={'duration': 1000}\n",
    "    )\n",
    "\n",
    "    # Show the plot\n",
    "fig.show()\n",
    "        "
   ]
  },
  {
   "cell_type": "markdown",
   "metadata": {},
   "source": [
    "### Bar Plot of Average Unemployment Rate by State\n",
    "\n",
    "We calculate and visualize the average unemployment rate for each state to identify which states have the highest and lowest unemployment rates.\n"
   ]
  },
  {
   "cell_type": "code",
   "execution_count": null,
   "metadata": {},
   "outputs": [],
   "source": [
    "# Bar plot of average unemployment rate by state\n",
    "state_unemployment = dt.groupby('State')['Unemployment_Rate'].mean().reset_index()\n",
    "state_unemployment_sorted = state_unemployment.sort_values(by='Unemployment_Rate', ascending=False)\n",
    "\n",
    "plt.figure(figsize=(12, 6))\n",
    "sns.barplot(x='State', y='Unemployment_Rate', data=state_unemployment_sorted)\n",
    "plt.xticks(rotation=90)\n",
    "plt.xlabel('State')\n",
    "plt.ylabel('Average Unemployment Rate')\n",
    "plt.title('Average Unemployment Rate by State')\n",
    "plt.tight_layout()\n",
    "plt.show()\n"
   ]
  },
  {
   "cell_type": "markdown",
   "metadata": {},
   "source": [
    "## Conclusion\n",
    "\n",
    "### Unemployment Rate\n",
    "\n",
    "- **Mean Unemployment Rate**: 7.83%\n",
    "- **Median Unemployment Rate**: 6.85%\n",
    "- **Standard Deviation of Unemployment Rate**: 5.29%\n",
    "\n",
    "#### Key Insights:\n",
    "- The dataset shows significant variability in unemployment rates across different states and regions.\n",
    "- The **highest average unemployment rates** were observed in:\n",
    "  - **Tripura**: 17.43%\n",
    "  - **Haryana**: 14.79%\n",
    "  - **Jharkhand**: 13.35%\n",
    "  - **Bihar**: 12.84%\n",
    "- The **lowest average unemployment rates** were found in:\n",
    "  - **Meghalaya**: 1.56%\n",
    "  - **Odisha**: 2.43%\n",
    "  - **Assam**: 3.67%\n",
    "  - **Uttarakhand**: 4.09%\n",
    "\n",
    "### Regional Analysis\n",
    "\n",
    "- **North**:\n",
    "  - States like Haryana and Punjab exhibit higher unemployment rates, with Haryana being significantly higher.\n",
    "  \n",
    "- **South**:\n",
    "  - Tamil Nadu and Karnataka show moderate unemployment rates, with Tamil Nadu being on the higher end within this region.\n",
    "  \n",
    "- **East**:\n",
    "  - Bihar and Jharkhand have higher unemployment rates, indicating economic challenges in these areas.\n",
    "  \n",
    "- **West**:\n",
    "  - Maharashtra and Gujarat have moderate unemployment rates, with Gujarat generally performing better.\n",
    "  \n",
    "- **Northeast**:\n",
    "  - States like Meghalaya and Assam have the lowest unemployment rates, suggesting better employment conditions.\n",
    "\n",
    "### Labour Participation Rate\n",
    "\n",
    "- The Labour Participation Rate (LPR) varies considerably across different states and time periods.\n",
    "- The LPR showed a decreasing trend during some months, which could be correlated with economic downturns or policy changes.\n",
    "\n",
    "### Employment Trends\n",
    "\n",
    "- **Relationship between Employment and Labour Participation Rate**:\n",
    "  - There is a noticeable inverse relationship: as the unemployment rate increases, the number of employed individuals tends to decrease.\n",
    "\n",
    "### Regional Analysis\n",
    "\n",
    "- **North**:\n",
    "  - The mean unemployment rate in northern states is higher compared to other regions.\n",
    "  \n",
    "- **South**:\n",
    "  - Southern states show lower mean unemployment rates, indicating better employment opportunities.\n",
    "  \n",
    "- **East**:\n",
    "  - Eastern states have higher mean unemployment rates, similar to the northern region.\n",
    "  \n",
    "- **West**:\n",
    "  - Western states show moderate unemployment rates, with some variability.\n",
    "  \n",
    "- **Northeast**:\n",
    "  - Northeastern states have the lowest unemployment rates, suggesting relatively stable employment conditions.\n",
    "\n",
    "### Most Impacted States/Union Territories\n",
    "\n",
    "- The states/UTs most affected by high unemployment rates include:\n",
    "  - **Puducherry**\n",
    "  - **Jharkhand**\n",
    "  - **Bihar**\n",
    "  - **Haryana**\n",
    "  - **Tamil Nadu**\n",
    "\n",
    "### Miscellaneous Observations\n",
    "\n",
    "- **Yearly Impact**:\n",
    "  - The effect of specific years on unemployment is evident, with certain years showing significant deviations in unemployment rates.\n",
    "- **Variability**:\n",
    "  - There is extreme variability in unemployment rates across all states, with some states showing more skewed distributions.\n",
    "- **Correlation**:\n",
    "  - When unemployment rates increase, the number of employed individuals tends to decrease, indicating an opposite relationship.\n",
    "\n",
    "Overall, the analysis highlights significant disparities in unemployment rates across different states and time periods, influenced by various economic, seasonal, and policy factors.\n"
   ]
  }
 ],
 "metadata": {
  "kernelspec": {
   "display_name": "Python 3",
   "language": "python",
   "name": "python3"
  },
  "language_info": {
   "codemirror_mode": {
    "name": "ipython",
    "version": 3
   },
   "file_extension": ".py",
   "mimetype": "text/x-python",
   "name": "python",
   "nbconvert_exporter": "python",
   "pygments_lexer": "ipython3",
   "version": "3.10.4"
  }
 },
 "nbformat": 4,
 "nbformat_minor": 2
}
